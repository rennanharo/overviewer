{
 "cells": [
  {
   "cell_type": "code",
   "execution_count": 1,
   "metadata": {},
   "outputs": [],
   "source": [
    "import GetOldTweets3 as got\n",
    "import pandas as pd\n",
    "import ipywidgets as widgets\n",
    "from ipywidgets import interact, interactive, fixed, interact_manual\n",
    "from IPython.display import clear_output"
   ]
  },
  {
   "cell_type": "code",
   "execution_count": 2,
   "metadata": {},
   "outputs": [],
   "source": [
    "def get_tweets(search, location, startdate, enddate, maxtweet):\n",
    "    \n",
    "    tweetCriteria = got.manager.TweetCriteria().setQuerySearch(search)\\\n",
    "                                            .setSince(startdate)\\\n",
    "                                            .setUntil(enddate)\\\n",
    "                                            .setNear(location)\\\n",
    "                                            .setWithin(\"500mi\")\\\n",
    "                                            .setMaxTweets(maxtweet)\n",
    "    \n",
    "    tweet = got.manager.TweetManager.getTweets(tweetCriteria)\n",
    "    \n",
    "    text_tweets = [[tw.username,\n",
    "                tw.text,\n",
    "                tw.date,\n",
    "                tw.retweets,\n",
    "                tw.favorites,\n",
    "                tw.mentions,\n",
    "                tw.hashtags,\n",
    "                tw.geo] for tw in tweet]\n",
    "    \n",
    "    tweets_df = pd.DataFrame(text_tweets, columns = ['User', 'Text', 'Date', 'Favorites', 'Retweets', 'Mentions','Hashtags', 'Geolocation'])\n",
    "    \n",
    "    return tweets_df"
   ]
  },
  {
   "cell_type": "code",
   "execution_count": 3,
   "metadata": {
    "jupyter": {
     "source_hidden": true
    }
   },
   "outputs": [],
   "source": [
    "max_tweets = widgets.IntSlider(\n",
    "    value=2500,\n",
    "    min=0,\n",
    "    max=5000,\n",
    "    step=100,\n",
    "    description=\"Max. tweets:\"\n",
    ")"
   ]
  },
  {
   "cell_type": "code",
   "execution_count": 4,
   "metadata": {
    "jupyter": {
     "source_hidden": true
    }
   },
   "outputs": [],
   "source": [
    "search = widgets.Text(\n",
    "    value='Fiat Toro',\n",
    "    placeholder='Type something',\n",
    "    description='Search:',\n",
    "    disabled=False\n",
    ")"
   ]
  },
  {
   "cell_type": "code",
   "execution_count": 5,
   "metadata": {
    "jupyter": {
     "source_hidden": true
    }
   },
   "outputs": [],
   "source": [
    "location = widgets.Text(\n",
    "    value='Brazil',\n",
    "    placeholder='Type something',\n",
    "    description='Location:',\n",
    "    disabled=False\n",
    ")"
   ]
  },
  {
   "cell_type": "code",
   "execution_count": 6,
   "metadata": {
    "jupyter": {
     "source_hidden": true
    }
   },
   "outputs": [],
   "source": [
    "s_date = widgets.DatePicker(\n",
    "    description='Start date:',\n",
    "    disabled=False\n",
    ")"
   ]
  },
  {
   "cell_type": "code",
   "execution_count": 7,
   "metadata": {
    "jupyter": {
     "source_hidden": true
    }
   },
   "outputs": [],
   "source": [
    "e_date = widgets.DatePicker(\n",
    "    description='End date:',\n",
    "    disabled=False\n",
    ")"
   ]
  },
  {
   "cell_type": "code",
   "execution_count": 19,
   "metadata": {
    "jupyter": {
     "source_hidden": true
    }
   },
   "outputs": [],
   "source": [
    "#button = widgets.Button(description='Run query')\n",
    "#out = widgets.Output()\n",
    "#def on_button_clicked(_):\n",
    "      # \"linking function with output\"\n",
    "#      with out:\n",
    "          # what happens when we press the button\n",
    "#          clear_output()\n",
    "#          print('Query iniciada.')\n",
    "#          print('[Carregando...]')\n",
    "#          tweets1 = get_tweets(str(search.value), str(location.value), str(s_date.value), str(e_date.value), max_tweets.value)\n",
    "#          print('Query finalizada.')\n",
    "#          print(str(search.value) + ' ' + str(location.value) + ' ' + str(s_date.value) + ' ' + str(e_date.value) + ' ' + str(max_tweets.value))\n",
    "          # linking button and function together using a button's method\n",
    "#button.on_click(on_button_clicked)\n",
    "# displaying button and its output together\n",
    "#widgets.VBox([button,out])'''"
   ]
  },
  {
   "cell_type": "code",
   "execution_count": 8,
   "metadata": {
    "jupyter": {
     "source_hidden": true
    }
   },
   "outputs": [
    {
     "data": {
      "application/vnd.jupyter.widget-view+json": {
       "model_id": "2fd7ce0641b149c8846dd1932ce39fe5",
       "version_major": 2,
       "version_minor": 0
      },
      "text/plain": [
       "Text(value='Fiat Toro', description='Search:', placeholder='Type something')"
      ]
     },
     "metadata": {},
     "output_type": "display_data"
    },
    {
     "data": {
      "application/vnd.jupyter.widget-view+json": {
       "model_id": "d6aeb924d86640848d583f500fac167f",
       "version_major": 2,
       "version_minor": 0
      },
      "text/plain": [
       "Text(value='Brazil', description='Location:', placeholder='Type something')"
      ]
     },
     "metadata": {},
     "output_type": "display_data"
    },
    {
     "data": {
      "application/vnd.jupyter.widget-view+json": {
       "model_id": "e4a86226b1ed4b3caac63cf803ce2c3b",
       "version_major": 2,
       "version_minor": 0
      },
      "text/plain": [
       "DatePicker(value=None, description='Start date:')"
      ]
     },
     "metadata": {},
     "output_type": "display_data"
    },
    {
     "data": {
      "application/vnd.jupyter.widget-view+json": {
       "model_id": "246b65e31cec42bdb090afe0a17a501d",
       "version_major": 2,
       "version_minor": 0
      },
      "text/plain": [
       "DatePicker(value=None, description='End date:')"
      ]
     },
     "metadata": {},
     "output_type": "display_data"
    },
    {
     "data": {
      "application/vnd.jupyter.widget-view+json": {
       "model_id": "35f6b97125ab4553acaab0d60e3fdb28",
       "version_major": 2,
       "version_minor": 0
      },
      "text/plain": [
       "IntSlider(value=2500, description='Max. tweets:', max=5000, step=100)"
      ]
     },
     "metadata": {},
     "output_type": "display_data"
    }
   ],
   "source": [
    "display(\n",
    "    search,\n",
    "    location,\n",
    "    s_date,\n",
    "    e_date,\n",
    "    max_tweets\n",
    ")"
   ]
  },
  {
   "cell_type": "code",
   "execution_count": 10,
   "metadata": {},
   "outputs": [],
   "source": [
    "tweets = get_tweets(str(search.value), str(location.value), str(s_date.value), str(e_date.value), max_tweets.value)"
   ]
  },
  {
   "cell_type": "code",
   "execution_count": 13,
   "metadata": {},
   "outputs": [
    {
     "data": {
      "text/html": [
       "<div>\n",
       "<style scoped>\n",
       "    .dataframe tbody tr th:only-of-type {\n",
       "        vertical-align: middle;\n",
       "    }\n",
       "\n",
       "    .dataframe tbody tr th {\n",
       "        vertical-align: top;\n",
       "    }\n",
       "\n",
       "    .dataframe thead th {\n",
       "        text-align: right;\n",
       "    }\n",
       "</style>\n",
       "<table border=\"1\" class=\"dataframe\">\n",
       "  <thead>\n",
       "    <tr style=\"text-align: right;\">\n",
       "      <th></th>\n",
       "      <th>User</th>\n",
       "      <th>Text</th>\n",
       "      <th>Date</th>\n",
       "      <th>Favorites</th>\n",
       "      <th>Retweets</th>\n",
       "      <th>Mentions</th>\n",
       "      <th>Hashtags</th>\n",
       "      <th>Geolocation</th>\n",
       "    </tr>\n",
       "  </thead>\n",
       "  <tbody>\n",
       "    <tr>\n",
       "      <th>0</th>\n",
       "      <td>Pauloafjj</td>\n",
       "      <td>Já pensou se eu ganho essa Fiat Toro do Acrecap</td>\n",
       "      <td>2020-07-19 23:26:09+00:00</td>\n",
       "      <td>0</td>\n",
       "      <td>1</td>\n",
       "      <td></td>\n",
       "      <td></td>\n",
       "      <td></td>\n",
       "    </tr>\n",
       "    <tr>\n",
       "      <th>1</th>\n",
       "      <td>GrupoCRONO</td>\n",
       "      <td>Las Fiat Toro del @equipooctanos coparon la ú...</td>\n",
       "      <td>2020-07-19 22:07:06+00:00</td>\n",
       "      <td>2</td>\n",
       "      <td>11</td>\n",
       "      <td>@equipoOCTANOS @rossi_gaston @pincholobe</td>\n",
       "      <td>#TCPickUp</td>\n",
       "      <td></td>\n",
       "    </tr>\n",
       "    <tr>\n",
       "      <th>2</th>\n",
       "      <td>brunodobem</td>\n",
       "      <td>Galera, já garantiram os números para concorre...</td>\n",
       "      <td>2020-07-19 20:25:30+00:00</td>\n",
       "      <td>2</td>\n",
       "      <td>12</td>\n",
       "      <td></td>\n",
       "      <td></td>\n",
       "      <td></td>\n",
       "    </tr>\n",
       "    <tr>\n",
       "      <th>3</th>\n",
       "      <td>solotcOK</td>\n",
       "      <td>@rossi_gaston se consagró campeón del TC Pick...</td>\n",
       "      <td>2020-07-19 20:10:00+00:00</td>\n",
       "      <td>4</td>\n",
       "      <td>14</td>\n",
       "      <td>@rossi_gaston @pincholobe</td>\n",
       "      <td></td>\n",
       "      <td></td>\n",
       "    </tr>\n",
       "    <tr>\n",
       "      <th>4</th>\n",
       "      <td>Ribeiro22_Renan</td>\n",
       "      <td>Carol da Fiat toro</td>\n",
       "      <td>2020-07-19 19:24:31+00:00</td>\n",
       "      <td>0</td>\n",
       "      <td>1</td>\n",
       "      <td></td>\n",
       "      <td></td>\n",
       "      <td></td>\n",
       "    </tr>\n",
       "    <tr>\n",
       "      <th>...</th>\n",
       "      <td>...</td>\n",
       "      <td>...</td>\n",
       "      <td>...</td>\n",
       "      <td>...</td>\n",
       "      <td>...</td>\n",
       "      <td>...</td>\n",
       "      <td>...</td>\n",
       "      <td>...</td>\n",
       "    </tr>\n",
       "    <tr>\n",
       "      <th>695</th>\n",
       "      <td>abreunil</td>\n",
       "      <td>CADÊ O DONO DA FIAT PRA DAR UM FIAT TORO PRO B...</td>\n",
       "      <td>2020-04-03 02:48:10+00:00</td>\n",
       "      <td>2</td>\n",
       "      <td>7</td>\n",
       "      <td></td>\n",
       "      <td>#bbb #BBB2020</td>\n",
       "      <td></td>\n",
       "    </tr>\n",
       "    <tr>\n",
       "      <th>696</th>\n",
       "      <td>opsKayo</td>\n",
       "      <td>Ei @FiatBR dá um Fiat Toro pro @BabuSantana su...</td>\n",
       "      <td>2020-04-03 02:47:42+00:00</td>\n",
       "      <td>0</td>\n",
       "      <td>0</td>\n",
       "      <td>@FiatBR @BabuSantana</td>\n",
       "      <td></td>\n",
       "      <td></td>\n",
       "    </tr>\n",
       "    <tr>\n",
       "      <th>697</th>\n",
       "      <td>VelosoDaColina</td>\n",
       "      <td>@gabigol uma Fiat Toro nem dói no teu bolso, é...</td>\n",
       "      <td>2020-04-03 02:47:38+00:00</td>\n",
       "      <td>0</td>\n",
       "      <td>0</td>\n",
       "      <td>@gabigol</td>\n",
       "      <td>#BabuCampeao</td>\n",
       "      <td></td>\n",
       "    </tr>\n",
       "    <tr>\n",
       "      <th>698</th>\n",
       "      <td>beatrizbcps</td>\n",
       "      <td>Cadê os jogadores pra dar um Fiat Toro pro Babu??</td>\n",
       "      <td>2020-04-03 02:47:36+00:00</td>\n",
       "      <td>0</td>\n",
       "      <td>2</td>\n",
       "      <td></td>\n",
       "      <td></td>\n",
       "      <td></td>\n",
       "    </tr>\n",
       "    <tr>\n",
       "      <th>699</th>\n",
       "      <td>hcviniciuss</td>\n",
       "      <td>meu deus a fanbase do babu não tem um minuto d...</td>\n",
       "      <td>2020-04-03 02:47:35+00:00</td>\n",
       "      <td>0</td>\n",
       "      <td>9</td>\n",
       "      <td></td>\n",
       "      <td>#BBB20</td>\n",
       "      <td></td>\n",
       "    </tr>\n",
       "  </tbody>\n",
       "</table>\n",
       "<p>700 rows × 8 columns</p>\n",
       "</div>"
      ],
      "text/plain": [
       "                User                                               Text  \\\n",
       "0          Pauloafjj    Já pensou se eu ganho essa Fiat Toro do Acrecap   \n",
       "1         GrupoCRONO   Las Fiat Toro del @equipooctanos coparon la ú...   \n",
       "2         brunodobem  Galera, já garantiram os números para concorre...   \n",
       "3           solotcOK   @rossi_gaston se consagró campeón del TC Pick...   \n",
       "4    Ribeiro22_Renan                                Carol da Fiat toro    \n",
       "..               ...                                                ...   \n",
       "695         abreunil  CADÊ O DONO DA FIAT PRA DAR UM FIAT TORO PRO B...   \n",
       "696          opsKayo  Ei @FiatBR dá um Fiat Toro pro @BabuSantana su...   \n",
       "697   VelosoDaColina  @gabigol uma Fiat Toro nem dói no teu bolso, é...   \n",
       "698      beatrizbcps  Cadê os jogadores pra dar um Fiat Toro pro Babu??   \n",
       "699      hcviniciuss  meu deus a fanbase do babu não tem um minuto d...   \n",
       "\n",
       "                         Date  Favorites  Retweets  \\\n",
       "0   2020-07-19 23:26:09+00:00          0         1   \n",
       "1   2020-07-19 22:07:06+00:00          2        11   \n",
       "2   2020-07-19 20:25:30+00:00          2        12   \n",
       "3   2020-07-19 20:10:00+00:00          4        14   \n",
       "4   2020-07-19 19:24:31+00:00          0         1   \n",
       "..                        ...        ...       ...   \n",
       "695 2020-04-03 02:48:10+00:00          2         7   \n",
       "696 2020-04-03 02:47:42+00:00          0         0   \n",
       "697 2020-04-03 02:47:38+00:00          0         0   \n",
       "698 2020-04-03 02:47:36+00:00          0         2   \n",
       "699 2020-04-03 02:47:35+00:00          0         9   \n",
       "\n",
       "                                     Mentions       Hashtags Geolocation  \n",
       "0                                                                         \n",
       "1    @equipoOCTANOS @rossi_gaston @pincholobe      #TCPickUp              \n",
       "2                                                                         \n",
       "3                   @rossi_gaston @pincholobe                             \n",
       "4                                                                         \n",
       "..                                        ...            ...         ...  \n",
       "695                                            #bbb #BBB2020              \n",
       "696                      @FiatBR @BabuSantana                             \n",
       "697                                  @gabigol   #BabuCampeao              \n",
       "698                                                                       \n",
       "699                                                   #BBB20              \n",
       "\n",
       "[700 rows x 8 columns]"
      ]
     },
     "execution_count": 13,
     "metadata": {},
     "output_type": "execute_result"
    }
   ],
   "source": [
    "tweets"
   ]
  },
  {
   "cell_type": "code",
   "execution_count": 16,
   "metadata": {},
   "outputs": [],
   "source": [
    "tweets.to_csv('tweets.csv', index = False)"
   ]
  },
  {
   "cell_type": "code",
   "execution_count": 9,
   "metadata": {},
   "outputs": [
    {
     "data": {
      "text/plain": [
       "'TODO: \\n    [ ] Sentiment\\n    [ ] Iterative csv generation\\n'"
      ]
     },
     "execution_count": 9,
     "metadata": {},
     "output_type": "execute_result"
    }
   ],
   "source": [
    "'''TODO: \n",
    "    [ ] Sentiment\n",
    "    [ ] Iterative csv generation\n",
    "'''"
   ]
  }
 ],
 "metadata": {
  "kernelspec": {
   "display_name": "Python 3",
   "language": "python",
   "name": "python3"
  },
  "language_info": {
   "codemirror_mode": {
    "name": "ipython",
    "version": 3
   },
   "file_extension": ".py",
   "mimetype": "text/x-python",
   "name": "python",
   "nbconvert_exporter": "python",
   "pygments_lexer": "ipython3",
   "version": "3.8.3"
  }
 },
 "nbformat": 4,
 "nbformat_minor": 4
}
